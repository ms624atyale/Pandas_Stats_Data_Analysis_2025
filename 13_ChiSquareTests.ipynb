{
  "nbformat": 4,
  "nbformat_minor": 0,
  "metadata": {
    "colab": {
      "provenance": [],
      "authorship_tag": "ABX9TyMQbzxjHPV6dxrErKnGUg/D",
      "include_colab_link": true
    },
    "kernelspec": {
      "name": "python3",
      "display_name": "Python 3"
    },
    "language_info": {
      "name": "python"
    }
  },
  "cells": [
    {
      "cell_type": "markdown",
      "metadata": {
        "id": "view-in-github",
        "colab_type": "text"
      },
      "source": [
        "<a href=\"https://colab.research.google.com/github/ms624atyale/Pandas_Stats_Data_Analysis_2025/blob/main/13_ChiSquareTests.ipynb\" target=\"_parent\"><img src=\"https://colab.research.google.com/assets/colab-badge.svg\" alt=\"Open In Colab\"/></a>"
      ]
    },
    {
      "cell_type": "markdown",
      "source": [
        "# <font color ='red'> 💦🔥 **Chi-square tests** (카이제곱검정)\n",
        "\n",
        "##[_1. Go to Row totals; Column totals; Total numbers_](https://github.com/ms624atyale/Data_Analysis/blob/main/RowTotals_ColumnTotals_TotalN.png)\n",
        "\n",
        "##[_2.Go to Calculating expected frequencies_](https://github.com/ms624atyale/Data_Analysis/blob/main/Fomula_ExpectedFrequencies.png)"
      ],
      "metadata": {
        "id": "oVV98KRlTjMb"
      }
    },
    {
      "cell_type": "markdown",
      "source": [],
      "metadata": {
        "id": "F7NYGZ_jUvVs"
      }
    },
    {
      "cell_type": "markdown",
      "source": [
        "# <font color ='red'> 💦🔥 **Chi-square tests** (카이제곱검정)\n",
        "\n",
        "- Whether your sample data is likely to be from a specific theoretical distribution.\n",
        "- Test of Independence (독립성 검정) of categorical variables\n",
        "- Two-way contigency tables 2차원 분할표 is most common. However, analyses with multi-dimensional다차원 (e.g., three-way3차원 or four-way4차원) contingency tables are also possible in principle, but people switch to either log-linear models or linear regression.\n",
        "\n",
        "|                     |dependent v1|dependent v2|dependent v3||\n",
        "|:--:                 |:--:|:--:|:--:|:--:|\n",
        "|independent variable1|r1c1|r1c2|r1c3|r1 total|\n",
        "|independent variable2|r2c1|r2c2|r2c3|r2 total|\n",
        "|independent variable3|r3c1|r3c2|r3c3|r3 total|\n",
        "|                     |c1 total|c2 total|c3 total| Total |\n",
        "\n",
        "\n",
        "\n",
        "Contingency Table분할표 for Observed Frequency관측도수 in terms of people's perferences for different SNS, either Instagram, Youtube, or Facebook\n",
        ">\n",
        "\n",
        "|            |Instagram|Youtube|Facebook||\n",
        "|:--:        |:--:|:--:|:--:|:--:|\n",
        "|In thier 20s|125|119|56|300|\n",
        "|In thier 30s|268|147|85|500|\n",
        "|In thier 40s|210|75|315|600|\n",
        "|            |603|341|456|1400|\n",
        "\n",
        "How to calculate Expected Frequency기대도수?\n",
        "\n",
        "**Formula**\n",
        "\n",
        "    Expected Frequency = row n total * column n total / Grand Total\n",
        "\n",
        "    where n is a number.\n",
        "\n",
        "#**[Refer to sample .xlsx used as base for chi-square formula](https://github.com/ms624atyale/Pandas_Stats_Data_Analysis_2025/blob/main/Excel4Chi_SquareTest.xlsx)**\n",
        "\n",
        "\n",
        "Estimating Expected Frequency\n",
        "|            |Instagram|Youtube|Facebook||\n",
        "|:--:        |:--:|:--:|:--:|:--:|\n",
        "|In thier 20s|300*603/1400|300*341/1400|300*456/1400|300|\n",
        "|In thier 30s|500*603/1400|500*341/1400|500*456/1400|500|\n",
        "|In thier 40s|600*603/1400|600*341/1400|600*456/1400|600|\n",
        "|            |603|341|456|1400|\n",
        "\n",
        "|            |Instagram|Youtube|Facebook||\n",
        "|:--:        |:--:|:--:|:--:|:--:|\n",
        "|In thier 20s|129.2|73.1|97.7|300|\n",
        "|In thier 30s|215.4|121.8|162.9|500|\n",
        "|In thier 40s|258.4|146.1|195.4|500|\n",
        "|            |603|341|356|1400|\n",
        "\n",
        ">\n",
        "\n",
        "1️⃣ Formula of chi^2\n",
        "\n",
        "chi^2\t= (OFr1c1-EFr1cl)^2/EFr1c1 + (OFr1c2-EFr1c2)^2/EFr1c2 + ... + (OFr3c3-EFr3c3)^2/EFr3c3\n",
        "\n",
        "    \n",
        "\n",
        "    ⤵️ Fomula of chi-square applied:\n",
        "\n",
        "    chi^2 = 0.14 + 28.87 + 17.81 + 12.87 + 5.22 + 37.22 + 9.08 + 34.63 + 73.19 = 218.99\n",
        "\n",
        "    2️⃣ Degree of Freedom (df)  = (Total number of rows - 1) * (Total number of columns-1)\n",
        "\n",
        "    df = (3-1) * (3-1)\n",
        "\n",
        "-- A **higher Chi-square** statistic indicates a **greater discrepancy** between _observed and expected frequencies_, leading to a **lower** p-value.\n",
        "\n",
        "-- A **lower p-value** suggests that it is **less** likely the observed association is **due to random chance**,\n",
        "    making it more likely that the variables are indeed associated.\n",
        "\n",
        "\n",
        "\n"
      ],
      "metadata": {
        "id": "YzIUzD8xDM1n"
      }
    },
    {
      "cell_type": "markdown",
      "source": [
        "## **<font color = 'red'> 🌱 🐣 Chi-Square Tests using Python codes**"
      ],
      "metadata": {
        "id": "5l9eOc5TU7cr"
      }
    },
    {
      "cell_type": "code",
      "source": [
        "import pandas as pd\n",
        "import numpy as np\n",
        "from scipy.stats import chi2_contingency\n",
        "\n",
        "observed_freq = np.array([[125, 119, 56],[268, 147, 85], [210, 75, 315]])\n",
        "\n",
        "df = pd.DataFrame(observed_freq, index = ['In thier 20s', 'In their 30s', 'In thier 40s'], columns = ['Instagram', 'Youtube', 'Facebook'])\n",
        "\n",
        "print(df)\n",
        "print('\\n')\n",
        "\n",
        "# Perform chi-square test\n",
        "chi2_statistic, p_value, degrees_of_freedom, expected_freq = chi2_contingency(observed_freq)\n",
        "\n",
        "print ('Ho: Preference of SNS (e.g., Instagram, Youtube, Facebook) is similar among different age groups ')\n",
        "\n",
        "print(\"\\n\", \"Chi-square statistic:\", chi2_statistic)\n",
        "\n",
        "print(\"\\n\", \"p-value:\", p_value)\n",
        "\n",
        "print(\"\\n\", \"Degrees of freedom:\", degrees_of_freedom)\n",
        "\n",
        "print(\"\\n\", \"Expected frequencies:\\n\", expected_freq)\n",
        "\n",
        "# Define the CTT (critical test threshold, aka., alpha)\n",
        "alpha = 0.05\n",
        "\n",
        "# Interpret the result\n",
        "if p_value < alpha:\n",
        "    print(\"\\n\", \"Preference of SNS (e.g., Instagram, Youtube, Facebook) is different  among different age groups. (reject H0)\")\n",
        "else:\n",
        "    print(\"\\n\", \"Preference of SNS (e.g., Instagram, Youtube, Facebook) is similar among different age groups. (fail to reject H0)\")"
      ],
      "metadata": {
        "colab": {
          "base_uri": "https://localhost:8080/"
        },
        "id": "Uhm_P1kCLzzg",
        "outputId": "0f24fb4a-b6e1-4d09-e64d-f26f884e5d24"
      },
      "execution_count": null,
      "outputs": [
        {
          "output_type": "stream",
          "name": "stdout",
          "text": [
            "              Instagram  Youtube  Facebook\n",
            "In thier 20s        125      119        56\n",
            "In their 30s        268      147        85\n",
            "In thier 40s        210       75       315\n",
            "\n",
            "\n",
            "Ho: Preference of SNS (e.g., Instagram, Youtube, Facebook) is similar among different age groups \n",
            "\n",
            " Chi-square statistic: 218.98992136307027\n",
            "\n",
            " p-value: 3.0923258542677724e-46\n",
            "\n",
            " Degrees of freedom: 4\n",
            "\n",
            " Expected frequencies:\n",
            " [[129.21428571  73.07142857  97.71428571]\n",
            " [215.35714286 121.78571429 162.85714286]\n",
            " [258.42857143 146.14285714 195.42857143]]\n",
            "\n",
            " Preference of SNS (e.g., Instagram, Youtube, Facebook) is different  among different age groups. (reject H0)\n"
          ]
        }
      ]
    },
    {
      "cell_type": "markdown",
      "source": [
        "### 1️⃣ **Testing English native speakers' speaking fluency with chi-square tests**"
      ],
      "metadata": {
        "id": "TVAeuszYQeaa"
      }
    },
    {
      "cell_type": "code",
      "execution_count": null,
      "metadata": {
        "colab": {
          "base_uri": "https://localhost:8080/"
        },
        "id": "UHM8zUTjLlkf",
        "outputId": "31149ff0-7889-4459-d04f-5b2727820c6d"
      },
      "outputs": [
        {
          "output_type": "stream",
          "name": "stdout",
          "text": [
            "For your information, interruptions in speaking are like breaks중단 or disruptions방해.\n",
            "For your information, filler words채움말 in speaking are like uh, um, well, like, so, OK, right, you know, I mean, sort of, kind of, basically, actually, let me see, let me think, etc.\n",
            "\n",
            "\n",
            "                           Interuptions  Fillers\n",
            "Male/Female after Puberty            30       85\n",
            "Kids under 5                         95       68\n",
            "\n",
            "\n",
            "Ho: Speaking fluency are similar between adults and kids are independent of age.\n",
            "\n",
            " Chi-square statistic: 26.957080592820397\n",
            "\n",
            " p-value: 2.0802369135102012e-07\n",
            "\n",
            " Degrees of freedom: 1\n",
            "\n",
            " Expected frequencies:\n",
            " [[51.70863309 63.29136691]\n",
            " [73.29136691 89.70863309]]\n",
            "\n",
            " Different agae groups differ in speaking fluency. (reject H0)\n"
          ]
        }
      ],
      "source": [
        "import pandas as pd\n",
        "import numpy as np\n",
        "from scipy.stats import chi2_contingency\n",
        "\n",
        "# Define the contingency table\n",
        "observed_freq = np.array([[30, 85],\n",
        "                          [95, 68]])\n",
        "\n",
        "df = pd.DataFrame(observed_freq, index = ['Male/Female after Puberty', 'Kids under 5'], columns = ['Interuptions', 'Fillers'])\n",
        "\n",
        "print('For your information, interruptions in speaking are like breaks중단 or disruptions방해.')\n",
        "print('For your information, filler words채움말 in speaking are like uh, um, well, like, so, OK, right, you know, I mean, sort of, kind of, basically, actually, let me see, let me think, etc.')\n",
        "print('\\n')\n",
        "\n",
        "print(df)\n",
        "print('\\n')\n",
        "\n",
        "# Perform chi-square test\n",
        "chi2_statistic, p_value, degrees_of_freedom, expected_freq = chi2_contingency(observed_freq)\n",
        "\n",
        "# Print the results\n",
        "\n",
        "print ('Ho: Speaking fluency are similar between adults and kids are independent of age.')\n",
        "\n",
        "print(\"\\n\", \"Chi-square statistic:\", chi2_statistic)\n",
        "\n",
        "print(\"\\n\", \"p-value:\", p_value)\n",
        "\n",
        "print(\"\\n\", \"Degrees of freedom:\", degrees_of_freedom)\n",
        "\n",
        "print(\"\\n\", \"Expected frequencies:\\n\", expected_freq)\n",
        "\n",
        "# Define the CTT (critical test threshold, aka., alpha)\n",
        "alpha = 0.05\n",
        "\n",
        "# Interpret the result\n",
        "if p_value < alpha:\n",
        "    print(\"\\n\", \"Different agae groups differ in speaking fluency. (reject H0)\")\n",
        "else:\n",
        "    print(\"\\n\", \"Different agae groups do not differ in speaking fluency. (fail to reject H0)\")"
      ]
    },
    {
      "cell_type": "markdown",
      "source": [
        "### 2️⃣ **Testing speakers' use of grammatical function words between native speakers of English and non-native speakers of English with chi-square tests**"
      ],
      "metadata": {
        "id": "tiQ0gQMmQrCW"
      }
    },
    {
      "cell_type": "code",
      "source": [
        "import pandas as pd\n",
        "import numpy as np\n",
        "from scipy.stats import chi2_contingency\n",
        "\n",
        "observed_freq = np.array([[125, 59, 80],[100, 12, 50]])\n",
        "\n",
        "df = pd.DataFrame(observed_freq, index = ['Native after puberty', 'Non-native after puberty'], columns = ['Pronouns', 'Relative Clause', 'Subordinate Clause'])\n",
        "\n",
        "print(df)\n",
        "print('\\n')\n",
        "\n",
        "# Perform chi-square test\n",
        "chi2_statistic, p_value, degrees_of_freedom, expected_freq = chi2_contingency(observed_freq)\n",
        "\n",
        "print ('Ho: Using grammatical function words are similar in terms of frequency between native and non-native after-puberty speakers of English')\n",
        "\n",
        "print(\"\\n\", \"Chi-square statistic:\", chi2_statistic)\n",
        "\n",
        "print(\"\\n\", \"p-value:\", p_value)\n",
        "\n",
        "print(\"\\n\", \"Degrees of freedom:\", degrees_of_freedom)\n",
        "\n",
        "print(\"\\n\", \"Expected frequencies:\\n\", expected_freq)\n",
        "\n",
        "# Define the CTT (critical test threshold, aka., alpha)\n",
        "alpha = 0.05\n",
        "\n",
        "# Interpret the result\n",
        "if p_value < alpha:\n",
        "    print(\"\\n\", \"The use of grammatical function words varies depending on whether the speaker is a native or non-native user of English. (reject H0)\")\n",
        "else:\n",
        "    print(\"\\n\", \"The use of grammatical function words does not vary depending on whether the speaker is a native or non-native user of English. (fail to reject H0)\")"
      ],
      "metadata": {
        "colab": {
          "base_uri": "https://localhost:8080/"
        },
        "id": "sfqJEgy7PDmv",
        "outputId": "849eb0d7-b375-4bdd-ac05-1e4bf10a03aa"
      },
      "execution_count": null,
      "outputs": [
        {
          "output_type": "stream",
          "name": "stdout",
          "text": [
            "                          Pronouns  Relative Clause  Subordinate Clause\n",
            "Native after puberty           125               59                  80\n",
            "Non-native after puberty       100               12                  50\n",
            "\n",
            "\n",
            "Ho: Using grammatical function words are similar in terms of frequency between native and non-native after-puberty speakers of English\n",
            "\n",
            " Chi-square statistic: 17.38783849894961\n",
            "\n",
            " p-value: 0.00016760186379635635\n",
            "\n",
            " Degrees of freedom: 2\n",
            "\n",
            " Expected frequencies:\n",
            " [[139.43661972  44.          80.56338028]\n",
            " [ 85.56338028  27.          49.43661972]]\n",
            "\n",
            " The use of grammatical function words varies depending on whether the speaker is a native or non-native user of English. (reject H0)\n"
          ]
        }
      ]
    },
    {
      "cell_type": "markdown",
      "source": [
        "### 3️⃣ **Influence of different types of smoking on outbreak of smoking-related cancers**"
      ],
      "metadata": {
        "id": "my8hvGdZONFg"
      }
    },
    {
      "cell_type": "code",
      "source": [
        "import pandas as pd\n",
        "import numpy as np\n",
        "from scipy.stats import chi2_contingency\n",
        "\n",
        "observed_freq = np.array([[100, 150],[120, 160]])\n",
        "\n",
        "df = pd.DataFrame(observed_freq, index = ['Cigarette', 'e-Cigarette'], columns = ['Lung Cancer', 'Bladder Cancer'])\n",
        "\n",
        "print(df)\n",
        "print('\\n')\n",
        "\n",
        "# Perform chi-square test\n",
        "chi2_statistic, p_value, degrees_of_freedom, expected_freq = chi2_contingency(observed_freq)\n",
        "\n",
        "print ('Ho: Cancers in the area of Lung and Bladder are similar between cigarette and e-cigarette users')\n",
        "\n",
        "print(\"\\n\", \"Chi-square statistic:\", chi2_statistic)\n",
        "\n",
        "print(\"\\n\", \"p-value:\", p_value)\n",
        "\n",
        "print(\"\\n\", \"Degrees of freedom:\", degrees_of_freedom)\n",
        "\n",
        "print(\"\\n\", \"Expected frequencies:\\n\", expected_freq)\n",
        "\n",
        "# Define the CTT (critical test threshold, aka., alpha)\n",
        "alpha = 0.05\n",
        "\n",
        "# Interpret the result\n",
        "if p_value < alpha:\n",
        "    print(\"\\n\", \"The incidence rates발병률 of lung cancer and bladder cancer are different between cigarette users and e-cigarette users. (reject H0)\")\n",
        "else:\n",
        "    print(\"\\n\", \"The incidence rates발병률 of lung cancer and bladder cancer are not different between cigarette users and e-cigarette users. (fail to reject H0)\")"
      ],
      "metadata": {
        "colab": {
          "base_uri": "https://localhost:8080/"
        },
        "id": "dtr4HeH-Olt8",
        "outputId": "d1fb0537-6a64-43ad-9fcb-1f0392034670"
      },
      "execution_count": null,
      "outputs": [
        {
          "output_type": "stream",
          "name": "stdout",
          "text": [
            "             Lung Cancer  Bladder Cancer\n",
            "Cigarette            100             150\n",
            "e-Cigarette          120             160\n",
            "\n",
            "\n",
            "Ho: Cancers in the area of Lung and Bladder are similar between cigarette and e-cigarette users\n",
            "\n",
            " Chi-square statistic: 0.3341892019271051\n",
            "\n",
            " p-value: 0.5632026843691589\n",
            "\n",
            " Degrees of freedom: 1\n",
            "\n",
            " Expected frequencies:\n",
            " [[103.77358491 146.22641509]\n",
            " [116.22641509 163.77358491]]\n",
            "\n",
            " The incidence rates발병률 of lung cancer and bladder cancer are not differ between cigarette users and e-cigarette users. (fail to reject H0)\n"
          ]
        }
      ]
    }
  ]
}