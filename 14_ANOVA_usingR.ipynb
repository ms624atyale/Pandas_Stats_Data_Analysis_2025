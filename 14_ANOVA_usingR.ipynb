{
  "nbformat": 4,
  "nbformat_minor": 0,
  "metadata": {
    "colab": {
      "provenance": [],
      "authorship_tag": "ABX9TyNoX+oSfcQ1ggl1P5SETly8",
      "include_colab_link": true
    },
    "kernelspec": {
      "name": "python3",
      "display_name": "Python 3"
    },
    "language_info": {
      "name": "python"
    }
  },
  "cells": [
    {
      "cell_type": "markdown",
      "metadata": {
        "id": "view-in-github",
        "colab_type": "text"
      },
      "source": [
        "<a href=\"https://colab.research.google.com/github/ms624atyale/Pandas_Stats_Data_Analysis_2025/blob/main/14_ANOVA_usingR.ipynb\" target=\"_parent\"><img src=\"https://colab.research.google.com/assets/colab-badge.svg\" alt=\"Open In Colab\"/></a>"
      ]
    },
    {
      "cell_type": "markdown",
      "source": [
        "How to run R within Python?\n",
        "\n",
        "1. R within Python by leveraging the rpy2 library, which provides a bridge to run R code and use R libraries from within Python.\n",
        "\n",
        "2. Steps to set up R and its necessary packages\n",
        "    \n",
        "    \n",
        "    %% Ensure R is installed on your system. You can download it from the CRAN website.\n",
        "  \n",
        "\n",
        " - [**Download R CRAN Mirrors**](https://cran.yu.ac.kr/)\n",
        "\n",
        "\n"
      ],
      "metadata": {
        "id": "uVEj7wevitA5"
      }
    },
    {
      "cell_type": "markdown",
      "source": [
        "Install any necessary R packages you intend to use.\n",
        "\n",
        "1. Base R Packages:\n",
        "  \n",
        "  **stats:** This comes with the base R installation and includes functions for ANOVA and GLM.\n",
        ">\n",
        "2. Additional R Packages:\n",
        "\n",
        "    i) **car:** Companion to Applied Regression, useful for more advanced ANOVA methods and diagnostic tests\n",
        "    >\n",
        "    ii) **multcomp:** Tools for multiple comparisons (post-hoc tests)\n",
        "    >\n",
        "    iii) **emmeans:** Estimated marginal means (EMMs), also known as least-squares means최소제곱평균, for various model objects.\n",
        "      - Unequal sample sizes: The design is not perfectly balanced.\n",
        "      - Covariates\n",
        "    \n",
        "    -- e.g., **When you study whether different teaching methods affect student test scores.**\n",
        "            Independent variable (factor): Teaching method (A, B, C)\n",
        "            Dependent variable: Test score\n",
        "            Covariates 공변량: age, parental education level, etc.\n",
        "    >\n",
        "    iv) **ggplot2:** For creating enhanced visualizations.\n",
        "\n",
        "Steps to Install and Load the Necessary R Packages\n",
        "Open an R Session:\n",
        "\n",
        "Use the install.packages() function to install the necessary packages."
      ],
      "metadata": {
        "id": "LfgmoUVUhCxR"
      }
    },
    {
      "cell_type": "markdown",
      "source": [
        "## 🚘 **Directly in an R Environment**\n",
        "When working directly in R, you type the commands into your R console or R script.\n",
        "\n",
        "# 💊 <font color = 'red'> **WARNING</font>**\n",
        "\n",
        "**Check for Special Characters:** Ensure there are **non-ASCII** characters in your command. Sometimes, copying and pasting code from different sources can introduce hidden characters.\n",
        "\n",
        "How to interpret the **aov()** function:\n",
        "\n",
        "- Format: (dependent variable name ~ independent variable name, data = data frame in use)\n",
        "\n",
        "- It is performing an analysis of variance to see how the dependent variable is affected by the independent variable, using the data stored in the data frame dt.\n",
        ">\n",
        "\n",
        "### **Some symbols in R useful to know:**\n",
        "\n",
        "the **~** symbol: It is essential for defining relationships between variables in statistical models. The model formula indicates that dependent/response variable is being modeled as a function of the independent/factor variable\n",
        "\n",
        "the **$** symbol: To extract components of a list or data frame.\n",
        "\n",
        ">\n",
        "\n",
        "# [**R script base for one-way ANOVA**](https://raw.githubusercontent.com/ms624atyale/Data_Misc/main/R_scriptBase4_one_way_ANOVA.txt)\n"
      ],
      "metadata": {
        "id": "Ti9Iz9PJlTXQ"
      }
    },
    {
      "cell_type": "markdown",
      "source": [
        "## 🚗 **Run R code from within Python:**\n",
        "\n",
        "Within Python using rpy2: Use Python to interface with R, running install.packages() and library() through rpy2 to execute R commands.\n",
        "\n",
        "🐹 🐾 <font color = 'green'>_If you are primarily working in R, use the direct method._</font> If you prefer Python or need to integrate R code within a larger Python project, use the rpy2 approach, <font color = 'red'>_**which is not recommended**_...\n",
        "\n",
        "### The pipeline of using R within Python is as follows:\n",
        "1. Install and import necessary packages and modules, and call necessary functions.  \n",
        "\n",
        "2. Read csv file for analysis.\n",
        "\n",
        "3. Convert the pandas DataFrame to an R dataframe\n",
        "\n",
        "4. Assign the R dataframe to the R environment\n",
        "\n",
        "5. Perform one-way ANOVA in R within Python"
      ],
      "metadata": {
        "id": "Yz5Boxwblemp"
      }
    },
    {
      "cell_type": "code",
      "source": [
        "!git clone https://github.com/ms624atyale/Pandas_Stats_Data_Analysis_2025"
      ],
      "metadata": {
        "colab": {
          "base_uri": "https://localhost:8080/"
        },
        "id": "PKaZfd0h9kAW",
        "outputId": "06cf67c9-a1d1-4a75-800e-09c8f72a3bad"
      },
      "execution_count": null,
      "outputs": [
        {
          "output_type": "stream",
          "name": "stdout",
          "text": [
            "Cloning into 'Pandas_Stats_Data_Analysis_2025'...\n",
            "remote: Enumerating objects: 455, done.\u001b[K\n",
            "remote: Counting objects: 100% (152/152), done.\u001b[K\n",
            "remote: Compressing objects: 100% (85/85), done.\u001b[K\n",
            "remote: Total 455 (delta 114), reused 65 (delta 65), pack-reused 303 (from 1)\u001b[K\n",
            "Receiving objects: 100% (455/455), 4.83 MiB | 18.52 MiB/s, done.\n",
            "Resolving deltas: 100% (248/248), done.\n"
          ]
        }
      ]
    },
    {
      "cell_type": "code",
      "source": [
        "#Example ANOVA for analysis\n",
        "\n",
        "!pip install rpy2\n",
        "import rpy2.robjects as robjects\n",
        "from rpy2.robjects import pandas2ri\n",
        "import pandas as pd\n",
        "\n",
        "# Activate the pandas2ri conversion\n",
        "pandas2ri.activate()\n",
        "\n",
        "# Function to install R packages\n",
        "def install_r_package(package_name):\n",
        "    try:\n",
        "        robjects.r(f'install.packages(\"{package_name}\")')\n",
        "    except Exception as e:\n",
        "        print(f\"An error occurred: {e}\")\n",
        "\n",
        "# Install necessary packages\n",
        "install_r_package('car')\n",
        "\n",
        "# Load necessary libraries\n",
        "robjects.r('library(car)')\n",
        "\n",
        "# Load the CSV file into a pandas DataFrame\n",
        "file_path = '/content/Pandas_Stats_Data_Analysis_2025/ANOVA_seoul_korean_f0_data.csv'\n",
        "\n",
        "df = pd.read_csv(file_path)\n",
        "\n",
        "# Convert the pandas DataFrame to an R dataframe\n",
        "r_df = pandas2ri.DataFrame(df)\n",
        "\n",
        "# 2. Assign the R dataframe to the R environment\n",
        "robjects.globalenv['data'] = r_df\n",
        "\n",
        "\n",
        "# 3. Perform one-way ANOVA in R\n",
        "anova_result = robjects.r('anova_result <- aov(f0 ~ stop, data = data)')\n",
        "summary_result = robjects.r('summary(anova_result)')\n",
        "print(summary_result)"
      ],
      "metadata": {
        "colab": {
          "base_uri": "https://localhost:8080/"
        },
        "collapsed": true,
        "id": "z-4_NBaG9VqD",
        "outputId": "44a3ad9a-223c-40a2-ae9d-25c5131c01c6"
      },
      "execution_count": null,
      "outputs": [
        {
          "output_type": "stream",
          "name": "stdout",
          "text": [
            "Requirement already satisfied: rpy2 in /usr/local/lib/python3.11/dist-packages (3.5.17)\n",
            "Requirement already satisfied: cffi>=1.15.1 in /usr/local/lib/python3.11/dist-packages (from rpy2) (1.17.1)\n",
            "Requirement already satisfied: jinja2 in /usr/local/lib/python3.11/dist-packages (from rpy2) (3.1.6)\n",
            "Requirement already satisfied: tzlocal in /usr/local/lib/python3.11/dist-packages (from rpy2) (5.3.1)\n",
            "Requirement already satisfied: pycparser in /usr/local/lib/python3.11/dist-packages (from cffi>=1.15.1->rpy2) (2.22)\n",
            "Requirement already satisfied: MarkupSafe>=2.0 in /usr/local/lib/python3.11/dist-packages (from jinja2->rpy2) (3.0.2)\n"
          ]
        },
        {
          "output_type": "stream",
          "name": "stderr",
          "text": [
            "WARNING:rpy2.rinterface_lib.callbacks:R[write to console]: Installing package into ‘/usr/local/lib/R/site-library’\n",
            "(as ‘lib’ is unspecified)\n",
            "\n",
            "WARNING:rpy2.rinterface_lib.callbacks:R[write to console]: also installing the dependencies ‘nloptr’, ‘pbkrtest’, ‘lme4’\n",
            "\n",
            "\n",
            "WARNING:rpy2.rinterface_lib.callbacks:R[write to console]: trying URL 'https://cran.rstudio.com/src/contrib/nloptr_2.2.1.tar.gz'\n",
            "\n",
            "WARNING:rpy2.rinterface_lib.callbacks:R[write to console]: trying URL 'https://cran.rstudio.com/src/contrib/pbkrtest_0.5.4.tar.gz'\n",
            "\n",
            "WARNING:rpy2.rinterface_lib.callbacks:R[write to console]: trying URL 'https://cran.rstudio.com/src/contrib/lme4_1.1-37.tar.gz'\n",
            "\n",
            "WARNING:rpy2.rinterface_lib.callbacks:R[write to console]: trying URL 'https://cran.rstudio.com/src/contrib/car_3.1-3.tar.gz'\n",
            "\n",
            "WARNING:rpy2.rinterface_lib.callbacks:R[write to console]: \n",
            "\n",
            "WARNING:rpy2.rinterface_lib.callbacks:R[write to console]: \n",
            "WARNING:rpy2.rinterface_lib.callbacks:R[write to console]: The downloaded source packages are in\n",
            "\t‘/tmp/RtmpqjmGTx/downloaded_packages’\n",
            "WARNING:rpy2.rinterface_lib.callbacks:R[write to console]: \n",
            "WARNING:rpy2.rinterface_lib.callbacks:R[write to console]: \n",
            "\n",
            "WARNING:rpy2.rinterface_lib.callbacks:R[write to console]: Loading required package: carData\n",
            "\n"
          ]
        },
        {
          "output_type": "stream",
          "name": "stdout",
          "text": [
            "            Df Sum Sq Mean Sq F value Pr(>F)    \n",
            "stop         2  27145   13572   148.4 <2e-16 ***\n",
            "Residuals   87   7959      91                   \n",
            "---\n",
            "Signif. codes:  0 ‘***’ 0.001 ‘**’ 0.01 ‘*’ 0.05 ‘.’ 0.1 ‘ ’ 1\n",
            "\n"
          ]
        }
      ]
    },
    {
      "cell_type": "markdown",
      "source": [
        "##<font color = 'green'> **🌸 For your information: You can generate f0 values for 10 speakers with  3 repetitions each.**"
      ],
      "metadata": {
        "id": "xQpQwJK77cvg"
      }
    },
    {
      "cell_type": "code",
      "source": [
        "import numpy as np\n",
        "import pandas as pd\n",
        "\n",
        "np.random.seed(42)  # reproducibility\n",
        "\n",
        "n = 30  # samples per group\n",
        "\n",
        "lenis_f0 = np.random.normal(loc=120, scale=10, size=n)\n",
        "fortis_f0 = np.random.normal(loc=140, scale=10, size=n)\n",
        "aspirated_f0 = np.random.normal(loc=160, scale=10, size=n)\n",
        "\n",
        "data = pd.DataFrame({\n",
        "    'F0': np.concatenate([lenis_f0, fortis_f0, aspirated_f0]),\n",
        "    'Stop': ['Lenis']*n + ['Fortis']*n + ['Aspirated']*n\n",
        "})\n",
        "\n",
        "print(data)\n",
        "data.to_csv(\"seoul_korean_f0_data_autogenerated.csv\", index=False)"
      ],
      "metadata": {
        "id": "1ZeHLh6r0thF"
      },
      "execution_count": null,
      "outputs": []
    }
  ]
}