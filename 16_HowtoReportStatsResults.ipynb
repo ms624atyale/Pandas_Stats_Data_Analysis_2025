{
  "nbformat": 4,
  "nbformat_minor": 0,
  "metadata": {
    "colab": {
      "provenance": [],
      "authorship_tag": "ABX9TyPLfP4HWpPq0haQ6s3bVIPp",
      "include_colab_link": true
    },
    "kernelspec": {
      "name": "python3",
      "display_name": "Python 3"
    },
    "language_info": {
      "name": "python"
    }
  },
  "cells": [
    {
      "cell_type": "markdown",
      "metadata": {
        "id": "view-in-github",
        "colab_type": "text"
      },
      "source": [
        "<a href=\"https://colab.research.google.com/github/ms624atyale/Pandas_Stats_Data_Analysis_2025/blob/main/16_HowtoReportStatsResults.ipynb\" target=\"_parent\"><img src=\"https://colab.research.google.com/assets/colab-badge.svg\" alt=\"Open In Colab\"/></a>"
      ]
    },
    {
      "cell_type": "markdown",
      "source": [
        "## **How to report stats**\n",
        "\n",
        "1️⃣ Independt samples (Unpaired, Student's) T-test & Paired samples T-test\n",
        "\n",
        "- State the means and standard deviations for each group.\n",
        "- Report the t-value, degrees of freedom (DF), and p-value.\n",
        ">\n",
        "    t(degress of freedom) = the t statistic, p = p value.\n",
        ">\n",
        "\n",
        "Examples:\n",
        "\n",
        "1. Independent samples (Unpaired, Student's) T-Test\n",
        "\n",
        "  - \"The 25 participants who received the drug intervention (M = 480, SD = 34.5) compared to the 28 participants in the control group (M = 425, SD = 31) demonstrated significantly better peak flow scores, t(51) = 2.1, p = .04.\"\n",
        "\n",
        "  - \"There was no significant effect for gender, t(38) = 1.7, p = .097, despite female (M = 55, SD = 8) attaining higher scores than male (M = 53, SD = 7.8).\"\n",
        "\n",
        "2. Dependent T-Test\n",
        "\n",
        "  - \"The results from the pre-test (M = 13.5, SD = 2.4) and post-test (M = 16.2, SD = 2.7) memory task indicate that the presence of caffeine in the bloodstream resulted in an improvement in memory recall, t(19) = 3.1, p = .006.\"\n",
        "\n",
        "  - \"There was a significant increase in the volume of alcohol consumed in the week after the end of semester (M = 8.7, SD = 3.1) compared to the week before the end of semester (M = 3.2, SD = 1.5), t(52) = 4.8, p < .001.\""
      ],
      "metadata": {
        "id": "pzW4DeESz429"
      }
    },
    {
      "cell_type": "markdown",
      "source": [
        "2️⃣ Mann Whitney U test\n",
        "\n",
        "- State the means and standard deviations for each group.\n",
        "- Report the U-value, degrees of freedom (DF), and p-value."
      ],
      "metadata": {
        "id": "OFkqqNY2CsWl"
      }
    },
    {
      "cell_type": "markdown",
      "source": [
        "3️⃣ Wilcoxon Signed Rank test\n",
        "\n",
        "- State the means and standard deviations for each group.\n",
        "- Report the z-value, degrees of freedom (DF), and p-value."
      ],
      "metadata": {
        "id": "x7_p4rZyCwhb"
      }
    },
    {
      "cell_type": "markdown",
      "source": [
        "4️⃣ Chi-Square test\n",
        "\n",
        "- χ2  (defrees of freedom, N = sample size) = chi-square statistic value, p = p value.\n",
        "\n",
        "Examples:\n",
        "\n",
        "  - \"A chi-square test of independence was performed to examine the relation between gender and the ability to swim. The relation between these variables was significant, χ2 (1, N = 84) = 8.9, p = .0029. Women were more likely than men to be able to swim.\"\n",
        "\n",
        "- \"The proportion of subjects who reported being depressed did not differ by marriage, χ2 (1, N = 104) = 1.7, p > .05.\"\n",
        "\n",
        "- \"There is a significant relationship between the two variables. Hipsters are more likely than non-hipsters to own an IPhone, χ2 (1, N = 54) = 6.7, p < .01.\"\n",
        "\n",
        "- \"A chi-square test of independence showed that there was no significant association between gender and chocolate preference, χ2 (2, N = 88) = 2.1, p = .35.\""
      ],
      "metadata": {
        "id": "jwqEe7_4Cywy"
      }
    },
    {
      "cell_type": "markdown",
      "source": [
        "5️⃣ Correlation\n",
        "\n",
        "- r(degress of freedom) = the r statistic, p = p value.\n",
        "\n",
        "Examples:\n",
        "\n",
        "  - \"IQ and GPA were found to be moderately positively correlated, r(38) = .34, p = .032.\"\n",
        "\n",
        "  - \"The variables shoe size and height were found to be strongly correlated, r(128) = .89, p < .01.\"\n",
        "\n",
        "  - \"Among the students of Hogwarts University, the number of hours playing Fortnite per week and midterm exam results were negatively correlated, r(78) = -.45, p < .001.\""
      ],
      "metadata": {
        "id": "6ZLBfYrwC1PC"
      }
    },
    {
      "cell_type": "markdown",
      "source": [
        "6️⃣ ANOVA\n",
        "\n",
        "F(Degree of Freedom between Groups, Degree of Freedom within Group) = F-value of between Groups, p = p-value\n",
        "\n",
        ">\n",
        "\n",
        "||Sum of Squares|df|Mean Square|F|sig|\n",
        "|:-:|:-:|:-:|:-:|:-:|:-:|\n",
        "|Between Groups|339.800|**2**|169.900|**4.545**|**.020**|\n",
        "|Within Groups|1009.400|**27**|37.385|||\n",
        "|Total|1349.200|29||||\n",
        "\n",
        "|Dependent Variable Score|TukeyHSD| | |  | |95% Confidence Interval |\n",
        "|:-:|:-:|:-:|:-:|:-:|:-:|:-:|\n",
        "\n",
        "|(I)technique|(J) technique|Mean Difference(I-J)|Std.Error|Sig.|Lower Bound|Upper Bound|\n",
        "|:-:|:-:|:-:|:-:|:-:|:-:|:-:|\n",
        "|1|2|-7.700*|2.734|.024|-14.48|-.92|\n",
        "||3|-1.300|2.734|.883|-8.08|5.48|\n",
        "|2|1|7.700*|2.734|.024|.92|14.48|\n",
        "||3|6.400|2.734|.067|-.38|13.18|\n",
        "|3|1|1.300|2.734|.883|5,48|8.08|\n",
        "||2|-6.400|2.734|.067|-13.18|.38|\n",
        "\n",
        ">\n",
        "\n",
        "Examples:\n",
        "\n",
        "  - \"A one-way ANOVA revealed that there was a statistically significant difference in mean exam score between at least two groups (F(2, 27) = 4.545, p = 0.02).\"\n",
        "\n",
        "  - \"Tukey’s HSD Test for multiple comparisons found that the mean value of exam score was significantly different between technique 1 and technique 2 (p = 0.024, 95% C.I. = [-14.48, -0.92]).\" (참고: C.I.에 대한 결과는 반드시 보고하지 않아도 됨)\n"
      ],
      "metadata": {
        "id": "n0R8BLHrC1mH"
      }
    },
    {
      "cell_type": "markdown",
      "source": [
        "7️⃣ Linear Regression\n",
        "\n",
        "1. Statistical Significance of the Regression Model\n",
        "Present the **F-statistic, degrees of freedom, and its significance (p-value)** to demonstrate the model’s overall fit.\n",
        "\n",
        "Example:\n",
        "\n",
        "    \"The model was significant, F(3,196) = 12.57, p < 0.001, indicating at least one predictor significantly affects plant growth.”\n",
        "\n",
        "2. Coefficient of Determination\n",
        "Report the **adjusted R²** to show the variance explained by the model.\n",
        "\n",
        "Example:\n",
        "\n",
        "    “The model explains 62% of the variance in plant growth, with an adjusted R² of 0.62.”\n",
        "\n",
        "    \"While the model fits well (Adjusted R² = 0.62), it’s crucial to note that it does not prove causation, and external factors not included in the model may also affect plant growth.\"\n",
        "\n",
        "3. Statistical Significance of Predictors (<font color = 'brown'>Caution to be taken: If your stat analysis spit out the results of a t-test; otherwise, you may not need this.)\n",
        "\n",
        "Detail each predictor’s significance through t-tests.\n",
        "\n",
        "Example:\n",
        "\n",
        "    “Sunlight exposure was a significant predictor, t(196) = 5.33, p < 0.001, indicating a positive effect on plant growth.”\n",
        "\n"
      ],
      "metadata": {
        "id": "4cE9WmtrC1_U"
      }
    },
    {
      "cell_type": "markdown",
      "source": [
        "8️⃣ Mixed Effects Model\n",
        "\n",
        "For now, it is sufficient to know how to report the <font color  = 'green'> **i) Residual** of the random effects</font> and <font color = 'red'> **ii) Estimate** of a factor (independent variable) you are interested in from the Fixed Effects table.\n",
        "\n",
        "Example:\n",
        "\n",
        "  - \"The residual of 2.468 stands for the random variation that does not stem from the individual subjects component.\"\n",
        "  - \"The vertical lower lip maxima varied with different speech rates, lowering it by **0.54 mm (_SE. ±0.21_)** at fast rate (comfortable>fast).\""
      ],
      "metadata": {
        "id": "ctv1zaaVC2Vx"
      }
    },
    {
      "cell_type": "markdown",
      "source": [
        "## 9️⃣ 🔨 🔧 🔩 🚛 🚛 🚛  \n",
        "## **Under construction:** <font color = 'red'> **This is _NOT_ part of your Final (Spring 2024)**\n",
        "\n",
        "Mixed Effects Model Comparison using ANOVA\n",
        "- The results spit out Chi-squared value, Degree of Freedom, and p-value. You can report them on your document.\n",
        "- You can also report t-value of the Fixed Effects of the full model.\n",
        "\n",
        "What to report:\n",
        "- Shif of regiduals from the ramdom effects of a null model (e.g., with one factor) to that of a full model (e.g., with two factors).\n",
        "- Chi-squared value and p-value from model comparisons using ANOVA\n",
        "- Estimates of the fixed effects of a full model (e.g., with two factors)\n",
        "\n",
        "\n",
        "Example:\n",
        "\n",
        "  - \"Adding Speech rate <Table 1.c.i>, we shifted the variance that was previously seen in the random effects in the null model as shown in <Table 1.b.i> (the residual of 2.45 stands for the random variation that does not stem from the individual subjects component) to the fixed effects component (the residual of 2.37). To conclude, the vertical lower lip maxima varied with different speech rates ( _χ2_ = 6.73, p<0.01_), lowering it by 0.54 mm (_SE. ±0.21_) at fast rate (comfortable>fast).\""
      ],
      "metadata": {
        "id": "8R30qcdjUN76"
      }
    }
  ]
}